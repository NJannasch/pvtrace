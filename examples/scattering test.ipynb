{
 "cells": [
  {
   "cell_type": "code",
   "execution_count": 1,
   "metadata": {},
   "outputs": [
    {
     "name": "stderr",
     "output_type": "stream",
     "text": [
      "DEBUG:trimesh:searching for scad in: /Users/daniel/.pyenv/versions/pvtrace-3.7.2/bin:/Users/daniel/.pyenv/versions/pvtrace-3.7.2/bin:/usr/local/Cellar/pyenv/1.2.9/libexec:/Users/daniel/.pyenv/shims:/Users/daniel/miniconda3/bin:/usr/local/bin:/usr/bin:/bin:/usr/sbin:/sbin:/Library/TeX/texbin:/usr/local/MacGPG2/bin:/opt/X11/bin:/Applications/OpenSCAD.app/Contents/MacOS\n",
      "WARNING:trimesh:searching for scad in: /Users/daniel/.pyenv/versions/pvtrace-3.7.2/bin:/Users/daniel/.pyenv/versions/pvtrace-3.7.2/bin:/usr/local/Cellar/pyenv/1.2.9/libexec:/Users/daniel/.pyenv/shims:/Users/daniel/miniconda3/bin:/usr/local/bin:/usr/bin:/bin:/usr/sbin:/sbin:/Library/TeX/texbin:/usr/local/MacGPG2/bin:/opt/X11/bin:/Applications/OpenSCAD.app/Contents/MacOS\n",
      "DEBUG:trimesh:searching for blender in: /Users/daniel/.pyenv/versions/pvtrace-3.7.2/bin:/Users/daniel/.pyenv/versions/pvtrace-3.7.2/bin:/usr/local/Cellar/pyenv/1.2.9/libexec:/Users/daniel/.pyenv/shims:/Users/daniel/miniconda3/bin:/usr/local/bin:/usr/bin:/bin:/usr/sbin:/sbin:/Library/TeX/texbin:/usr/local/MacGPG2/bin:/opt/X11/bin:/Applications/blender.app/Contents/MacOS:/Applications/Blender.app/Contents/MacOS:/Applications/Blender/blender.app/Contents/MacOS\n",
      "WARNING:trimesh:No FCL -- collision checking will not work\n",
      "DEBUG:shapely.geos:Found GEOS DLL: <CDLL '/Users/daniel/.pyenv/versions/3.7.2/envs/pvtrace-3.7.2/lib/python3.7/site-packages/shapely/.dylibs/libgeos_c.1.dylib', handle 7fad66130240 at 0x128321b38>, using it.\n",
      "DEBUG:shapely.geos:Trying `CDLL(/usr/lib/libc.dylib)`\n",
      "DEBUG:shapely.geos:Library path: '/usr/lib/libc.dylib'\n",
      "DEBUG:shapely.geos:DLL: <CDLL '/usr/lib/libc.dylib', handle 114c7ae78 at 0x1271803c8>\n",
      "DEBUG:matplotlib.pyplot:Loaded backend module://ipykernel.pylab.backend_inline version unknown.\n"
     ]
    }
   ],
   "source": [
    "import time\n",
    "import numpy as np\n",
    "import matplotlib\n",
    "import matplotlib.pyplot as plt\n",
    "%matplotlib inline\n",
    "from pvtrace.scene.scene import Scene\n",
    "from pvtrace.scene.renderer import MeshcatRenderer\n",
    "from pvtrace.scene.node import Node\n",
    "from pvtrace.algorithm import photon_tracer\n",
    "from pvtrace.geometry.sphere import Sphere\n",
    "from pvtrace.geometry.box import Box\n",
    "from pvtrace.geometry.cylinder import Cylinder\n",
    "from pvtrace.material.dielectric import Dielectric, LossyDielectric\n",
    "from pvtrace.material.lumophore import Lumophore\n",
    "from pvtrace.material.scatterer import Scatterer\n",
    "from pvtrace.material.host import Host\n",
    "from pvtrace.light.ray import Ray\n",
    "import logging\n",
    "logging.getLogger(\"pvtrace\").setLevel(logging.CRITICAL)"
   ]
  },
  {
   "cell_type": "code",
   "execution_count": 2,
   "metadata": {},
   "outputs": [],
   "source": [
    "world = Node(\n",
    "    name=\"world (air)\",\n",
    "    geometry=Sphere(\n",
    "        radius=100.0,\n",
    "    )\n",
    ")\n",
    "\n",
    "# Make the Lumophore material here\n",
    "wavelength = np.linspace(200, 800, 200)\n",
    "# lumophore = Lumophore.make_lumogen_f_red(wavelength, 5.0, 1.0)\n",
    "scattering_spec = np.column_stack(\n",
    "    [wavelength, np.ones(wavelength.shape) * 1.0]  # scattering coefficient cm-1\n",
    ")\n",
    "scatterer = Scatterer(scattering_spec, np.radians(30))\n",
    "sphere = Node(\n",
    "    name=\"sphere (glass)\",\n",
    "    geometry=Cylinder(\n",
    "        0.5, 10.0,\n",
    "        material=scatterer  # assign it here\n",
    "    ),\n",
    "    parent=world\n",
    ")\n",
    "ray = Ray(\n",
    "    position=(0.0, 0.0, 1.0),\n",
    "    direction=(0.0, 0.0, -1.0),\n",
    "    wavelength=600.0\n",
    ")\n",
    "scene = Scene(world)"
   ]
  },
  {
   "cell_type": "code",
   "execution_count": 3,
   "metadata": {},
   "outputs": [
    {
     "name": "stdout",
     "output_type": "stream",
     "text": [
      "You can open the visualizer by visiting the following URL:\n",
      "http://127.0.0.1:7000/static/\n"
     ]
    },
    {
     "ename": "AttributeError",
     "evalue": "'NoneType' object has no attribute 'trace_path'",
     "output_type": "error",
     "traceback": [
      "\u001b[0;31m---------------------------------------------------------------------------\u001b[0m",
      "\u001b[0;31mAttributeError\u001b[0m                            Traceback (most recent call last)",
      "\u001b[0;32m<ipython-input-3-51c14e35c879>\u001b[0m in \u001b[0;36m<module>\u001b[0;34m\u001b[0m\n\u001b[1;32m      2\u001b[0m \u001b[0mvis\u001b[0m\u001b[0;34m.\u001b[0m\u001b[0mrender\u001b[0m\u001b[0;34m(\u001b[0m\u001b[0mscene\u001b[0m\u001b[0;34m)\u001b[0m\u001b[0;34m\u001b[0m\u001b[0;34m\u001b[0m\u001b[0m\n\u001b[1;32m      3\u001b[0m \u001b[0;32mfor\u001b[0m \u001b[0m_\u001b[0m \u001b[0;32min\u001b[0m \u001b[0mrange\u001b[0m\u001b[0;34m(\u001b[0m\u001b[0;36m100\u001b[0m\u001b[0;34m)\u001b[0m\u001b[0;34m:\u001b[0m\u001b[0;34m\u001b[0m\u001b[0;34m\u001b[0m\u001b[0m\n\u001b[0;32m----> 4\u001b[0;31m     \u001b[0msteps\u001b[0m \u001b[0;34m=\u001b[0m \u001b[0mphoton_tracer\u001b[0m\u001b[0;34m.\u001b[0m\u001b[0mfollow\u001b[0m\u001b[0;34m(\u001b[0m\u001b[0mray\u001b[0m\u001b[0;34m,\u001b[0m \u001b[0mscene\u001b[0m\u001b[0;34m)\u001b[0m\u001b[0;34m\u001b[0m\u001b[0;34m\u001b[0m\u001b[0m\n\u001b[0m\u001b[1;32m      5\u001b[0m     \u001b[0mpath\u001b[0m\u001b[0;34m,\u001b[0m \u001b[0mdecisions\u001b[0m \u001b[0;34m=\u001b[0m \u001b[0mzip\u001b[0m\u001b[0;34m(\u001b[0m\u001b[0;34m*\u001b[0m\u001b[0msteps\u001b[0m\u001b[0;34m)\u001b[0m\u001b[0;34m\u001b[0m\u001b[0;34m\u001b[0m\u001b[0m\n\u001b[1;32m      6\u001b[0m     \u001b[0mvis\u001b[0m\u001b[0;34m.\u001b[0m\u001b[0madd_ray_path\u001b[0m\u001b[0;34m(\u001b[0m\u001b[0mpath\u001b[0m\u001b[0;34m)\u001b[0m\u001b[0;34m\u001b[0m\u001b[0;34m\u001b[0m\u001b[0m\n",
      "\u001b[0;32m~/dev/git/pvtrace-public/pvtrace/algorithm/photon_tracer.py\u001b[0m in \u001b[0;36mfollow\u001b[0;34m(ray, scene, max_iters, renderer)\u001b[0m\n\u001b[1;32m     42\u001b[0m         \u001b[0mintersections\u001b[0m \u001b[0;34m=\u001b[0m \u001b[0mscene\u001b[0m\u001b[0;34m.\u001b[0m\u001b[0mintersections\u001b[0m\u001b[0;34m(\u001b[0m\u001b[0mray\u001b[0m\u001b[0;34m.\u001b[0m\u001b[0mposition\u001b[0m\u001b[0;34m,\u001b[0m \u001b[0mray\u001b[0m\u001b[0;34m.\u001b[0m\u001b[0mdirection\u001b[0m\u001b[0;34m)\u001b[0m\u001b[0;34m\u001b[0m\u001b[0;34m\u001b[0m\u001b[0m\n\u001b[1;32m     43\u001b[0m         \u001b[0mpoints\u001b[0m\u001b[0;34m,\u001b[0m \u001b[0mnodes\u001b[0m \u001b[0;34m=\u001b[0m \u001b[0mzip\u001b[0m\u001b[0;34m(\u001b[0m\u001b[0;34m*\u001b[0m\u001b[0;34m[\u001b[0m\u001b[0;34m(\u001b[0m\u001b[0mx\u001b[0m\u001b[0;34m.\u001b[0m\u001b[0mpoint\u001b[0m\u001b[0;34m,\u001b[0m \u001b[0mx\u001b[0m\u001b[0;34m.\u001b[0m\u001b[0mhit\u001b[0m\u001b[0;34m)\u001b[0m \u001b[0;32mfor\u001b[0m \u001b[0mx\u001b[0m \u001b[0;32min\u001b[0m \u001b[0mintersections\u001b[0m\u001b[0;34m]\u001b[0m\u001b[0;34m)\u001b[0m\u001b[0;34m\u001b[0m\u001b[0;34m\u001b[0m\u001b[0m\n\u001b[0;32m---> 44\u001b[0;31m         \u001b[0;32mfor\u001b[0m \u001b[0mray\u001b[0m\u001b[0;34m,\u001b[0m \u001b[0mdecision\u001b[0m \u001b[0;32min\u001b[0m \u001b[0mstep\u001b[0m\u001b[0;34m(\u001b[0m\u001b[0mray\u001b[0m\u001b[0;34m,\u001b[0m \u001b[0mpoints\u001b[0m\u001b[0;34m,\u001b[0m \u001b[0mnodes\u001b[0m\u001b[0;34m,\u001b[0m \u001b[0mrenderer\u001b[0m\u001b[0;34m=\u001b[0m\u001b[0mrenderer\u001b[0m\u001b[0;34m)\u001b[0m\u001b[0;34m:\u001b[0m\u001b[0;34m\u001b[0m\u001b[0;34m\u001b[0m\u001b[0m\n\u001b[0m\u001b[1;32m     45\u001b[0m             \u001b[0mpath\u001b[0m\u001b[0;34m.\u001b[0m\u001b[0mappend\u001b[0m\u001b[0;34m(\u001b[0m\u001b[0;34m(\u001b[0m\u001b[0mray\u001b[0m\u001b[0;34m,\u001b[0m \u001b[0mdecision\u001b[0m\u001b[0;34m)\u001b[0m\u001b[0;34m)\u001b[0m\u001b[0;34m\u001b[0m\u001b[0;34m\u001b[0m\u001b[0m\n\u001b[1;32m     46\u001b[0m         \u001b[0;32mif\u001b[0m \u001b[0mpoints_equal\u001b[0m\u001b[0;34m(\u001b[0m\u001b[0mray\u001b[0m\u001b[0;34m.\u001b[0m\u001b[0mposition\u001b[0m\u001b[0;34m,\u001b[0m \u001b[0mlast_ray\u001b[0m\u001b[0;34m.\u001b[0m\u001b[0mposition\u001b[0m\u001b[0;34m)\u001b[0m \u001b[0;32mand\u001b[0m \u001b[0mnp\u001b[0m\u001b[0;34m.\u001b[0m\u001b[0mallclose\u001b[0m\u001b[0;34m(\u001b[0m\u001b[0mray\u001b[0m\u001b[0;34m.\u001b[0m\u001b[0mdirection\u001b[0m\u001b[0;34m,\u001b[0m \u001b[0mlast_ray\u001b[0m\u001b[0;34m.\u001b[0m\u001b[0mdirection\u001b[0m\u001b[0;34m)\u001b[0m\u001b[0;34m:\u001b[0m\u001b[0;34m\u001b[0m\u001b[0;34m\u001b[0m\u001b[0m\n",
      "\u001b[0;32m~/dev/git/pvtrace-public/pvtrace/algorithm/photon_tracer.py\u001b[0m in \u001b[0;36mstep\u001b[0;34m(ray, points, nodes, renderer)\u001b[0m\n\u001b[1;32m    183\u001b[0m     \u001b[0mdist\u001b[0m \u001b[0;34m=\u001b[0m \u001b[0mdistance_between\u001b[0m\u001b[0;34m(\u001b[0m\u001b[0mmin_point\u001b[0m\u001b[0;34m,\u001b[0m \u001b[0mmax_point\u001b[0m\u001b[0;34m)\u001b[0m\u001b[0;34m\u001b[0m\u001b[0;34m\u001b[0m\u001b[0m\n\u001b[1;32m    184\u001b[0m     \u001b[0m_ray\u001b[0m \u001b[0;34m=\u001b[0m \u001b[0mray\u001b[0m\u001b[0;34m\u001b[0m\u001b[0;34m\u001b[0m\u001b[0m\n\u001b[0;32m--> 185\u001b[0;31m     \u001b[0;32mfor\u001b[0m \u001b[0;34m(\u001b[0m\u001b[0mray\u001b[0m\u001b[0;34m,\u001b[0m \u001b[0mdecision\u001b[0m\u001b[0;34m)\u001b[0m \u001b[0;32min\u001b[0m \u001b[0mtrace_path\u001b[0m\u001b[0;34m(\u001b[0m\u001b[0mray\u001b[0m\u001b[0;34m,\u001b[0m \u001b[0mcontainer\u001b[0m\u001b[0;34m,\u001b[0m \u001b[0mdist\u001b[0m\u001b[0;34m)\u001b[0m\u001b[0;34m:\u001b[0m\u001b[0;34m\u001b[0m\u001b[0;34m\u001b[0m\u001b[0m\n\u001b[0m\u001b[1;32m    186\u001b[0m         \u001b[0;32mif\u001b[0m \u001b[0mrenderer\u001b[0m\u001b[0;34m:\u001b[0m\u001b[0;34m\u001b[0m\u001b[0;34m\u001b[0m\u001b[0m\n\u001b[1;32m    187\u001b[0m             \u001b[0mrenderer\u001b[0m\u001b[0;34m.\u001b[0m\u001b[0madd_ray_path\u001b[0m\u001b[0;34m(\u001b[0m\u001b[0;34m[\u001b[0m\u001b[0m_ray\u001b[0m\u001b[0;34m,\u001b[0m \u001b[0mray\u001b[0m\u001b[0;34m]\u001b[0m\u001b[0;34m)\u001b[0m\u001b[0;34m\u001b[0m\u001b[0;34m\u001b[0m\u001b[0m\n",
      "\u001b[0;32m~/dev/git/pvtrace-public/pvtrace/algorithm/photon_tracer.py\u001b[0m in \u001b[0;36mtrace_path\u001b[0;34m(ray, container_node, distance)\u001b[0m\n\u001b[1;32m    240\u001b[0m         \u001b[0mcontainer_node\u001b[0m\u001b[0;34m.\u001b[0m\u001b[0mroot\u001b[0m\u001b[0;34m,\u001b[0m \u001b[0mcontainer_node\u001b[0m\u001b[0;34m\u001b[0m\u001b[0;34m\u001b[0m\u001b[0m\n\u001b[1;32m    241\u001b[0m     )\n\u001b[0;32m--> 242\u001b[0;31m     for (local_ray, decision) in container_node.geometry.material.trace_path(\n\u001b[0m\u001b[1;32m    243\u001b[0m             local_ray, container_node.geometry, distance):\n\u001b[1;32m    244\u001b[0m         new_ray = local_ray.representation(\n",
      "\u001b[0;31mAttributeError\u001b[0m: 'NoneType' object has no attribute 'trace_path'"
     ]
    }
   ],
   "source": [
    "vis = MeshcatRenderer()\n",
    "vis.render(scene)\n",
    "for _ in range(100):\n",
    "    steps = photon_tracer.follow(ray, scene)\n",
    "    path, decisions = zip(*steps)\n",
    "    vis.add_ray_path(path)\n",
    "    time.sleep(0.001)  # allow the renderer a chance to redraw\n",
    "vis.vis.jupyter_cell()"
   ]
  },
  {
   "cell_type": "code",
   "execution_count": null,
   "metadata": {},
   "outputs": [],
   "source": [
    "from pvtrace.geometry.transformations import identity_matrix, rotation_matrix, inverse_matrix\n"
   ]
  },
  {
   "cell_type": "code",
   "execution_count": null,
   "metadata": {},
   "outputs": [],
   "source": [
    "mat = identity_matrix()[:-1,:-1]\n",
    "temp = identity_matrix()\n",
    "temp[:-1,:-1] = mat\n",
    "temp"
   ]
  },
  {
   "cell_type": "code",
   "execution_count": null,
   "metadata": {},
   "outputs": [],
   "source": []
  }
 ],
 "metadata": {
  "kernelspec": {
   "display_name": "Python 3",
   "language": "python",
   "name": "python3"
  },
  "language_info": {
   "codemirror_mode": {
    "name": "ipython",
    "version": 3
   },
   "file_extension": ".py",
   "mimetype": "text/x-python",
   "name": "python",
   "nbconvert_exporter": "python",
   "pygments_lexer": "ipython3",
   "version": "3.7.2"
  }
 },
 "nbformat": 4,
 "nbformat_minor": 2
}
